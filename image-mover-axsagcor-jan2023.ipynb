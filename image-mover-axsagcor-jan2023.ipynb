{
 "cells": [
  {
   "cell_type": "code",
   "execution_count": null,
   "id": "7b1a889d",
   "metadata": {},
   "outputs": [],
   "source": [
    "# copy images from main small_png_all_views folder to corresponding view folders --> takes a while\n",
    "# copy 2000 random images EACH into related folders for axial, coronal, and sagittal views"
   ]
  },
  {
   "cell_type": "code",
   "execution_count": null,
   "id": "ab867220",
   "metadata": {},
   "outputs": [],
   "source": [
    "import glob\n",
    "import os\n",
    "import shutil\n",
    "import random"
   ]
  },
  {
   "cell_type": "code",
   "execution_count": null,
   "id": "2f43ca0e",
   "metadata": {},
   "outputs": [],
   "source": [
    "path = 'C:/Users/aks13/Dropbox (Partners HealthCare)/ML stuff/small_png_all_views/' # unsorted folder"
   ]
  },
  {
   "cell_type": "markdown",
   "id": "c3c0def6",
   "metadata": {},
   "source": [
    "#### Axial"
   ]
  },
  {
   "cell_type": "code",
   "execution_count": null,
   "id": "80dc577a",
   "metadata": {},
   "outputs": [],
   "source": [
    "# axial\n",
    "# _ax.png\n",
    "# AX_All_imgs (waiting to name change from AX_Random_IMGs) to AX_random_images (final dest of random imgs)\n",
    "\n",
    "# path is all small imgs\n",
    "dest_ax = 'C:/Users/aks13/Dropbox (Partners HealthCare)/ML stuff/AX_All_imgs/' # will need to rename the folder after syncing\n",
    "dest_ax_2 = 'C:/Users/aks13/Dropbox (Partners HealthCare)/ML stuff/AX_random_images/'\n",
    "\n",
    "# copy all files with '_ax.png' to new folder\n",
    "ax_files = glob.iglob(os.path.join(path, '*_ax.png'))\n",
    "for file in ax_files:\n",
    "    if os.path.isfile(file):\n",
    "        shutil.copy2(file, dest_ax)"
   ]
  },
  {
   "cell_type": "code",
   "execution_count": null,
   "id": "eb40edea",
   "metadata": {},
   "outputs": [],
   "source": [
    "# choose 2000 random ax images and copy to random folder\n",
    "\n",
    "# source is dest_ax\n",
    "# dest is dest_ax_2\n",
    "# change dest_ax due to filename issue\n",
    "\n",
    "dest_ax_2 = 'C:/Users/aks13/Dropbox (Partners HealthCare)/ML stuff/AX_random_images/' # where they will go\n",
    "source_ax_1 = 'C:/Users/aks13/Dropbox (Partners HealthCare)/ML stuff/AX_Random_IMGs/'# where images are\n",
    "\n",
    "ax_fns = random.sample(os.listdir(source_ax_1), 2000)\n",
    "for fname in ax_fns:\n",
    "    pathh1 = os.path.join(source_ax_1, fname)\n",
    "    shutil.copy(pathh1, dest_ax_2)"
   ]
  },
  {
   "cell_type": "markdown",
   "id": "daf51404",
   "metadata": {},
   "source": [
    "#### Coronal"
   ]
  },
  {
   "cell_type": "code",
   "execution_count": null,
   "id": "df733d56",
   "metadata": {},
   "outputs": [],
   "source": [
    "# coronal\n",
    "# _cor.png\n",
    "# COR_All_imgs to COR_Random_IMGs\n",
    "\n",
    "dest_cor = 'C:/Users/aks13/Dropbox (Partners HealthCare)/ML stuff/COR_All_imgs/'\n",
    "dest_cor_2 = 'C:/Users/aks13/Dropbox (Partners HealthCare)/ML stuff/COR_Random_IMGs/'\n",
    "\n",
    "# copy all files with '_cor.png' to new folder\n",
    "cor_files = glob.iglob(os.path.join(path, '*_cor.png'))\n",
    "for file in cor_files:\n",
    "    if os.path.isfile(file):\n",
    "        shutil.copy2(file, dest_cor)"
   ]
  },
  {
   "cell_type": "code",
   "execution_count": null,
   "id": "c90ca622",
   "metadata": {},
   "outputs": [],
   "source": [
    "# choose 2000 random cor images and copy to random folder\n",
    "\n",
    "# path is all small imgs\n",
    "dest_cor = 'C:/Users/aks13/Dropbox (Partners HealthCare)/ML stuff/COR_All_imgs/' # where the imgs are\n",
    "dest_cor_2 = 'C:/Users/aks13/Dropbox (Partners HealthCare)/ML stuff/COR_Random_IMGs/' # where the imgs will go\n",
    "\n",
    "cor_fns = random.sample(os.listdir(dest_cor), 2000)\n",
    "for fname in cor_fns:\n",
    "    pathh2 = os.path.join(dest_cor, fname)\n",
    "    shutil.copy(pathh2, dest_cor_2)"
   ]
  },
  {
   "cell_type": "markdown",
   "id": "4d6a6093",
   "metadata": {},
   "source": [
    "#### Sagittal"
   ]
  },
  {
   "cell_type": "code",
   "execution_count": null,
   "id": "a41ed58e",
   "metadata": {},
   "outputs": [],
   "source": [
    "# sagittal \n",
    "# _sag.png\n",
    "# SAG_All_imgs to SAG_Random_IMGs\n",
    "\n",
    "dest_sag = 'C:/Users/aks13/Dropbox (Partners HealthCare)/ML stuff/SAG_All_imgs/'\n",
    "dest_sag_2 = 'C:/Users/aks13/Dropbox (Partners HealthCare)/ML stuff/SAG_Random_IMGs/'\n",
    "\n",
    "# copy all files with '_sag.png' to new folder\n",
    "sag_files = glob.iglob(os.path.join(path, '*_sag.png'))\n",
    "for file in sag_files:\n",
    "    if os.path.isfile(file):\n",
    "        shutil.copy2(file, dest_sag)"
   ]
  },
  {
   "cell_type": "code",
   "execution_count": null,
   "id": "625c97e9",
   "metadata": {},
   "outputs": [],
   "source": [
    "# choose 2000 random sag images and copy to random folder\n",
    "\n",
    "dest_sag = 'C:/Users/aks13/Dropbox (Partners HealthCare)/ML stuff/SAG_All_imgs/' # where the imgs are\n",
    "dest_sag_2 = 'C:/Users/aks13/Dropbox (Partners HealthCare)/ML stuff/SAG_Random_IMGs/' # where the imgs will go\n",
    "\n",
    "sag_fns = random.sample(os.listdir(dest_sag), 2000)\n",
    "for fname in sag_fns:\n",
    "    pathh3 = os.path.join(dest_sag, fname)\n",
    "    shutil.copy(pathh3, dest_sag_2)"
   ]
  }
 ],
 "metadata": {
  "kernelspec": {
   "display_name": "Python 3 (ipykernel)",
   "language": "python",
   "name": "python3"
  },
  "language_info": {
   "codemirror_mode": {
    "name": "ipython",
    "version": 3
   },
   "file_extension": ".py",
   "mimetype": "text/x-python",
   "name": "python",
   "nbconvert_exporter": "python",
   "pygments_lexer": "ipython3",
   "version": "3.9.7"
  }
 },
 "nbformat": 4,
 "nbformat_minor": 5
}
